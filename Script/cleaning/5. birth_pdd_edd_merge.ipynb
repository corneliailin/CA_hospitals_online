{
 "cells": [
  {
   "cell_type": "markdown",
   "metadata": {},
   "source": [
    "# Main script to merge Birth, PDD, EDD and geometry\n",
    "\n",
    "Modules: N/A <br>\n",
    "Author: Cornelia Ilin <br>\n",
    "Email: cilin@ischool.berkeley.edu <br>\n",
    "Date created: March 28, 2022 <br>"
   ]
  },
  {
   "cell_type": "markdown",
   "metadata": {},
   "source": [
    "### Step 1: Import packages"
   ]
  },
  {
   "cell_type": "code",
   "execution_count": null,
   "metadata": {},
   "outputs": [],
   "source": [
    "import pandas as pd\n",
    "import numpy as np\n",
    "import os"
   ]
  },
  {
   "cell_type": "markdown",
   "metadata": {},
   "source": [
    "### Step 2: Define working directories"
   ]
  },
  {
   "cell_type": "code",
   "execution_count": null,
   "metadata": {},
   "outputs": [],
   "source": [
    "in_dir = 'C:/Users/cilin/Research/CA_hospitals/Input/final_data/health/'\n",
    "in_dir_data_selection = 'C:/Users/cilin/Research/CA_hospitals/Input/raw_data/health/'"
   ]
  },
  {
   "cell_type": "markdown",
   "metadata": {},
   "source": [
    "### Step 3: Define functions"
   ]
  },
  {
   "cell_type": "markdown",
   "metadata": {},
   "source": [
    "``read``"
   ]
  },
  {
   "cell_type": "code",
   "execution_count": null,
   "metadata": {},
   "outputs": [],
   "source": [
    "def read_data():\n",
    "    '''\n",
    "    '''\n",
    "    df_dict = {}\n",
    "    for file in os.listdir(in_dir):\n",
    "        if file in ['Birth_final.csv', 'PDD_final.csv', 'EDD_final.csv']:\n",
    "            key = file.split('_')[0]\n",
    "            print('Reading:', file)\n",
    "            df_dict[key] = pd.read_csv(in_dir + file)\n",
    "        \n",
    "    return df_dict"
   ]
  },
  {
   "cell_type": "markdown",
   "metadata": {},
   "source": [
    "``preprocess``"
   ]
  },
  {
   "cell_type": "code",
   "execution_count": null,
   "metadata": {},
   "outputs": [],
   "source": [
    "def preprocess_data(df_dict):\n",
    "    ''''''\n",
    "    ## Birth ##\n",
    "    ###########\n",
    "    # from Birth key keep only _input==['B', 'I'] records\n",
    "    df_dict['Birth'] = df_dict['Birth'][df_dict['Birth']._input.isin(('B', 'I'))]\n",
    "\n",
    "    \n",
    "    ## PDD and EDD ##\n",
    "    #################\n",
    "    # merge PDD and EDD keys (call it PE)\n",
    "    df_dict['PE'] = pd.concat(\n",
    "        [df_dict['PDD'], df_dict['EDD']],\n",
    "        axis=0\n",
    "    )\n",
    "\n",
    "    # keep only rln that are in birth data\n",
    "    rlnIs = df_dict[\"Birth\"].rlnI_updated.unique()\n",
    "    df_dict['PE'] = df_dict['PE'][df_dict['PE'].rln.isin(rlnIs)]\n",
    "\n",
    "    \n",
    "    ## reset index ##\n",
    "    #################\n",
    "    for key in df_dict.keys():\n",
    "        df_dict[key].reset_index(\n",
    "            drop=True,\n",
    "            inplace=True\n",
    "        )\n",
    "        \n",
    "    return df_dict"
   ]
  },
  {
   "cell_type": "markdown",
   "metadata": {},
   "source": [
    "``merge``"
   ]
  },
  {
   "cell_type": "code",
   "execution_count": null,
   "metadata": {},
   "outputs": [],
   "source": [
    "def outer_merge(df_dict):\n",
    "    ''''''\n",
    "    ## merge Birth and PE ##\n",
    "    ########################\n",
    "    # add the merge to key 'BPE'\n",
    "    df_dict['BPE'] = df_dict['Birth'].merge(\n",
    "        df_dict['PE'],\n",
    "        left_on=['rlnI_updated', 'admdateI'],\n",
    "        right_on=['rln', 'admtdate'],\n",
    "        how='outer',\n",
    "        indicator=True\n",
    "    )\n",
    "    \n",
    "    \n",
    "    ## fill-in RHS information ##\n",
    "    #############################\n",
    "    # (missing data in PDD/EDD data)\n",
    "    RHS_columns = [\n",
    "       'rln', 'patzip',\t'patcnty',\t'patcnty_name',\t'bthdate',\t'bthyear',\n",
    "        'bthmonth',\t'bthday', 'admtdate',\t'admtyear',\t'admtmonth', 'admtday',\n",
    "        'charge',\t'diag00',\t'diag01',\t'diag02',\t'diag03',\n",
    "        'diag04',\t'proc00',\t'proc01',\t'proc02',\t'proc03',\t'proc04', 'data_source'\n",
    "    ]\n",
    "\n",
    "    LHS_columns= [\n",
    "        'rlnI_updated', 'zipI', 'cntyresI', 'cntyresI_name', 'bthdateI', 'bthyearI',\n",
    "        'bthmonthI', 'bthdayI', 'admdateI', 'admyearI', 'admmonthI', 'admdayI',\t\n",
    "        '_chargesI', 'diagI00',\t'diagI01',\t'diagI02',\t'diagI03',\t\n",
    "        'diagI04', 'procI00', 'procI01',\t'procI02',\t'procI03',\t'procI04'\n",
    "    ]\n",
    "\n",
    "\n",
    "    for idx, col in enumerate(RHS_columns):\n",
    "        #print(idx,col)\n",
    "        if col=='data_source':\n",
    "            df_dict['BPE'][col] = np.where(\n",
    "            (df_dict['BPE']['_merge'].eq('left_only') & df_dict['BPE'][col].isna()),\n",
    "            'Birth', df_dict['BPE'][col]\n",
    "        )\n",
    "        else:\n",
    "            df_dict['BPE'][col] = np.where(\n",
    "            (df_dict['BPE']['_merge'].eq('left_only') & df_dict['BPE'][col].isna()),\n",
    "            df_dict['BPE'][LHS_columns[idx]], df_dict['BPE'][col]\n",
    "        )\n",
    "    \n",
    "\n",
    "    ## fill-in LHS information ##\n",
    "    #############################\n",
    "    # (missing data in Birth data)\n",
    "    df_dict['BPE']['rlnI_updated'] = np.where(\n",
    "        df_dict['BPE'].rlnI_updated.isna(),\n",
    "        df_dict['BPE'].rln, df_dict['BPE'].rlnI_updated\n",
    "    )\n",
    "    \n",
    "    ## fill-in information at Birth ##\n",
    "    print('Filling in birth information...')\n",
    "    %time df_dict['BPE'] = LHS_merge_helper(df_dict['BPE'])\n",
    "    \n",
    "    # drop if brthdate in patient records different than brthdateI\n",
    "    df_dict['BPE'] = df_dict['BPE'][df_dict['BPE'].bthdateI.eq(df_dict['BPE'].bthdate)]\n",
    "\n",
    "    return df_dict"
   ]
  },
  {
   "cell_type": "code",
   "execution_count": null,
   "metadata": {},
   "outputs": [],
   "source": [
    "def LHS_merge_helper(df):\n",
    "    ''' Fill in empty LHS cells **with information at Birth**\n",
    "    '''\n",
    "    def helper(grp):\n",
    "        ''''''\n",
    "        #print('rlnI_updated:', grp.rlnI_updated.unique())\n",
    "        temp_grp = grp[grp._input.eq('B')]\n",
    "        temp_grp.reset_index(drop=True, inplace=True)\n",
    "\n",
    "        columns = ['_brthid', '_brthIDHST', 'rlnI_status',\n",
    "            'bthdateM',\t'bthyearM',\t'bthmonthM', 'bthdayM',\n",
    "            'bthdateI', 'bthyearI', 'bthmonthI', 'bthdayI',\n",
    "            'bthI_month_year',\n",
    "            'fbthdate',\t'fbthyear',\t'fbthmonth', 'fbthday',\n",
    "            'raceM', 'frace', 'meduc', 'feduc',\t'sexI',\t'raceI',\n",
    "            'matresst',\t'matresst_name','bthresmb',\t'bthresmb_name',\n",
    "            'bthresmb06',\t'bthresmb06_name',\n",
    "            'zipM',\t'zipI', 'ZCTA10I_month_year',\n",
    "            'cntyresM',\t'cntyresM_name', 'cntyresI', 'cntyresI_name',\n",
    "            'hplzipM', 'hplzipI', 'hplcntyM', 'hplcntyM_name', 'hplcntyI', 'hplcntyI_name',\n",
    "            'visitsM_9mpp',\t'visitsM_1ypp',\t'visitsI_1yol',\n",
    "            'precare',\t'precare_name',\t'prevlbd',\t'prevlbd_name',\t'prevlbl',\t'prevlbl_name',\n",
    "            'cebl',\t'cebl_name',\t'ceb',\t'ceb_name',\t'prevsts',\t'prevsts_name',\t'gest_days',\n",
    "            'gest_days_name',\t'bthwghtI',\t'caesar',\t'caesar_name', 'term_a20wks',\n",
    "            'term_a20wks_name',\t'term_b20wks',\t'term_b20wks_name'] \n",
    "        try:\n",
    "            for col in columns:\n",
    "                temp_col_val = temp_grp[col].unique()[0]\n",
    "                grp[col] = temp_col_val\n",
    "                \n",
    "        except IndexError:\n",
    "            return grp\n",
    "            \n",
    "                \n",
    "        try:\n",
    "            for col in ['ZCTA10I_centroid', 'ZCTA10M_centroid']:\n",
    "                temp_val = temp_grp[col][0]\n",
    "                grp[col] = temp_val\n",
    "\n",
    "            for col in ['ZCTA10I', 'ZCTA10M']:\n",
    "                temp_val = temp_grp[col].unique()[0]\n",
    "                grp[col] = temp_val\n",
    "                \n",
    "            return grp\n",
    "                \n",
    "        except KeyError:\n",
    "            return grp\n",
    "    \n",
    "    # groupby rlnI_updated to add birth values\n",
    "    df = df.groupby('rlnI_updated').apply(helper)\n",
    "    \n",
    "    return df"
   ]
  },
  {
   "cell_type": "markdown",
   "metadata": {},
   "source": [
    "``add variables``"
   ]
  },
  {
   "cell_type": "code",
   "execution_count": null,
   "metadata": {},
   "outputs": [],
   "source": [
    "def add_outcome(df):\n",
    "    \"\"\" A function that adds an outcome variable (=1 if diagnosis (diag00-diag04) is for respiratory/circulatory/injury; = 0 if for injury/poisoning) \n",
    "    \"\"\"\n",
    "    outcome_is_1 = add_outcome_helper()\n",
    "        \n",
    "    df[\"outcome\"] = np.where(df._input.eq('B'), 'B',\n",
    "                             np.where((df.diag00.str.startswith(outcome_is_1)| df.diag01.str.startswith(outcome_is_1)), 1,\n",
    "                                      np.where(df.diag00.str.startswith((\"8\", \"9\", \"S\", \"T\")), 0, 'others')))\n",
    "        \n",
    "    return df"
   ]
  },
  {
   "cell_type": "code",
   "execution_count": null,
   "metadata": {},
   "outputs": [],
   "source": [
    "def add_outcome_helper():\n",
    "    \"\"\" A function that creates a list of ICD9/10 diagnosis codes for which outcome variable == 1, \n",
    "        (i.e. diagnosis is related to respiratory or circultory health condition)\n",
    "    # return: a list of diagnosis codes\n",
    "    \"\"\"\n",
    "    # read icd codes selection    \n",
    "    icd = pd.read_excel(\n",
    "        in_dir_data_selection + 'data_selection.xlsx',\n",
    "        'Diag_codes', skiprows = 2, header = 0\n",
    "    )\n",
    "        \n",
    "    # keep only if it's to be used in the analysis\n",
    "    icd = icd[icd[\"Use to define outcome variable [behrt]\"] == 1]\n",
    "\n",
    "    \n",
    "    ## Step1: extract ICD-9-CM codes for which outcome == 1:\n",
    "    icd9_values = [] \n",
    "\n",
    "    # grab raw values\n",
    "    raw_values = icd[\"ICD-9-CM\"].values.tolist()\n",
    "\n",
    "    # create array sequences based on raw values\n",
    "    seq_values = []\n",
    "    for val in raw_values:\n",
    "        if val == -1:\n",
    "            continue\n",
    "        else:\n",
    "            seq_values.append(np.arange(int(val[0:3]), int(val[4:7])+1, 1))\n",
    "\n",
    "    # save final values\n",
    "    for row in seq_values:\n",
    "        for cell in row:\n",
    "            icd9_values.append(str(cell))\n",
    "\n",
    "    # create tuple\n",
    "    icd9_values = tuple(icd9_values)\n",
    "    \n",
    "    ## Step2: extract ICD-10-CM codes for which outcome == 1:\n",
    "    icd10_values = [] \n",
    "\n",
    "    # grab raw values\n",
    "    raw_values = icd[\"ICD-10-CM\"].values.tolist()\n",
    "    raw_values = [val.lstrip() for val in raw_values]\n",
    "\n",
    "    # create array sequences based on raw values\n",
    "    seq_values = []\n",
    "    seq_letters = []\n",
    "    \n",
    "    for val in raw_values:\n",
    "        if val == \"J00-J06, J20-J22\":\n",
    "            seq_values.append(np.arange(int(val[1:3]), int(val[5:7])+1, 1))\n",
    "            seq_values.append(np.arange(int(val[10:12]), int(val[14:16])+1, 1))\n",
    "            seq_letters.append(val[0])\n",
    "            seq_letters.append(val[9]) \n",
    "        else: \n",
    "            seq_values.append(np.arange(int(val[1:3]), int(val[5:7])+1, 1))\n",
    "            seq_letters.append(val[0])\n",
    "\n",
    "    # save final values\n",
    "    for index, row in enumerate(seq_values):\n",
    "        for cell in row:\n",
    "            if cell < 10: # add a 0 to numbers that have only one character\n",
    "                icd10_values.append(seq_letters[index] + \"0\" + str(cell))\n",
    "            else:\n",
    "                icd10_values.append(seq_letters[index] + str(cell))\n",
    "\n",
    "    # create tuple\n",
    "    icd10_values = tuple(icd10_values)\n",
    "    \n",
    "    ## Step3: Combine Step1 and Step2\n",
    "    icd_values = icd9_values + icd10_values\n",
    "    \n",
    "    return icd_values"
   ]
  },
  {
   "cell_type": "markdown",
   "metadata": {},
   "source": [
    "---\n",
    "### Step 4: Read Birth, PDD, EDD data"
   ]
  },
  {
   "cell_type": "code",
   "execution_count": null,
   "metadata": {},
   "outputs": [],
   "source": [
    "df_dict = read_data()\n",
    "print('Dictionary keys:', df_dict.keys())"
   ]
  },
  {
   "cell_type": "markdown",
   "metadata": {},
   "source": [
    "---\n",
    "### Step 5: Preprocess Birth, PDD, EDD data"
   ]
  },
  {
   "cell_type": "code",
   "execution_count": null,
   "metadata": {},
   "outputs": [],
   "source": [
    "df_dict = preprocess_data(df_dict)\n",
    "print('Dictionary keys:', df_dict.keys())"
   ]
  },
  {
   "cell_type": "markdown",
   "metadata": {},
   "source": [
    "---\n",
    "### Step 6: Merge Birth, PDD, EDD data"
   ]
  },
  {
   "cell_type": "markdown",
   "metadata": {},
   "source": [
    "Important!!! Before you merge this column, think of a better way to populate birth information!! (LHS) and make sure to add ZCTA codes and centroid for infant and mother"
   ]
  },
  {
   "cell_type": "code",
   "execution_count": null,
   "metadata": {},
   "outputs": [],
   "source": [
    "df_dict = outer_merge(df_dict)\n",
    "print('Dictionary keys:', df_dict.keys())\n",
    "print('Shape of merged BPE data:', df_dict['BPE'].shape)"
   ]
  },
  {
   "cell_type": "markdown",
   "metadata": {},
   "source": [
    "---\n",
    "### Step 7: Add variables"
   ]
  },
  {
   "cell_type": "markdown",
   "metadata": {},
   "source": [
    "``outcome``"
   ]
  },
  {
   "cell_type": "code",
   "execution_count": null,
   "metadata": {},
   "outputs": [],
   "source": [
    "df_dict['BPE'] = add_outcome(df_dict['BPE'])"
   ]
  },
  {
   "cell_type": "markdown",
   "metadata": {},
   "source": [
    "### Step 8: Export to .csv"
   ]
  },
  {
   "cell_type": "code",
   "execution_count": null,
   "metadata": {},
   "outputs": [],
   "source": [
    "df_dict['BPE'].to_csv(in_dir + 'BPE_final.csv')"
   ]
  },
  {
   "cell_type": "markdown",
   "metadata": {},
   "source": [
    "---\n",
    "tests"
   ]
  },
  {
   "cell_type": "code",
   "execution_count": null,
   "metadata": {},
   "outputs": [],
   "source": [
    "df_dict['BPE'][df_dict['BPE'].rlnI_updated.eq('NC3UWUCMU')][['ZCTA10I', 'ZCTA10M', 'ZCTA10I_centroid']]"
   ]
  },
  {
   "cell_type": "markdown",
   "metadata": {},
   "source": [
    "``add list of admission dates for each birth ID``"
   ]
  },
  {
   "cell_type": "code",
   "execution_count": null,
   "metadata": {},
   "outputs": [],
   "source": [
    "# subset data based on _input=['B', 'I']\n",
    "mini_mini_df = mini_df[mini_df._input.isin(('B', 'I'))]\n",
    "mini_mini_df.reset_index(\n",
    "    drop=True,\n",
    "    inplace=True\n",
    ")\n",
    "\n",
    "# create list/tuple of admtdateI\n",
    "def helper(grp):\n",
    "    ''''''\n",
    "    dates = grp.admdateI.unique()\n",
    "    grp['admdatesI_brthdata'] = [dates] * len(grp)\n",
    "    return grp\n",
    "\n",
    "mini_mini_df = mini_mini_df.groupby('_brthid', as_index=False).apply(helper)"
   ]
  },
  {
   "cell_type": "code",
   "execution_count": null,
   "metadata": {},
   "outputs": [],
   "source": []
  },
  {
   "cell_type": "code",
   "execution_count": null,
   "metadata": {},
   "outputs": [],
   "source": [
    "import pandas as pd\n",
    "import numpy as np\n",
    "import os\n",
    "\n",
    "in_dir = 'C:/Users/cilin/Research/CA_hospitals/Input/final_data/health/'\n",
    "in_dir_data_selection = 'C:/Users/cilin/Research/CA_hospitals/Input/raw_data/health/'\n",
    "\n",
    "df = pd.read_csv(in_dir + 'BPE_final.csv')"
   ]
  }
 ],
 "metadata": {
  "kernelspec": {
   "display_name": "Python 3",
   "language": "python",
   "name": "python3"
  },
  "language_info": {
   "codemirror_mode": {
    "name": "ipython",
    "version": 3
   },
   "file_extension": ".py",
   "mimetype": "text/x-python",
   "name": "python",
   "nbconvert_exporter": "python",
   "pygments_lexer": "ipython3",
   "version": "3.8.5"
  }
 },
 "nbformat": 4,
 "nbformat_minor": 4
}

{
 "cells": [
  {
   "cell_type": "markdown",
   "id": "17ea04ce",
   "metadata": {},
   "source": [
    "### Main script to clean ZCTA and Census Tract data\n",
    "\n",
    "Modules: N/A\n",
    "Author: Cornelia Ilin <br>\n",
    "Date: Feb 15, 2022 <br>\n",
    "Email: cilin@stanford.edu\n",
    "\n",
    "\n",
    "#### Citations (online sources):\n",
    "1. Geometry of ZIP codes in California (2010 boundaries) <br>\n",
    "    https://www.census.gov/cgi-bin/geo/shapefiles/index.php?year=2010&layergroup=ZIP+Code+Tabulation+Areas\n",
    "\n",
    "2. Geometry for County codes in California (2010 boundaries) <br>\n",
    "    https://www.census.gov/cgi-bin/geo/shapefiles/index.php?year=2010&layergroup=Counties+%28and+equivalent%29\n",
    "    \n",
    "3. ZCTA to county codes in California (2010 boundaries) <br>\n",
    "    https://www.census.gov/programs-surveys/geography/technical-documentation/records-layout/2010-zcta-record-layout.html"
   ]
  },
  {
   "cell_type": "markdown",
   "id": "0b4504c5",
   "metadata": {},
   "source": [
    "### Step 1: Import packages"
   ]
  },
  {
   "cell_type": "code",
   "execution_count": null,
   "id": "0afb3edc",
   "metadata": {},
   "outputs": [],
   "source": [
    "import pandas as pd\n",
    "import numpy as np\n",
    "import geopandas as gpd\n",
    "import os\n",
    "\n",
    "import warnings\n",
    "warnings.filterwarnings(\"ignore\")"
   ]
  },
  {
   "cell_type": "markdown",
   "id": "5a2cf627",
   "metadata": {},
   "source": [
    "### Step 2: Set working directories"
   ]
  },
  {
   "cell_type": "code",
   "execution_count": null,
   "id": "523ab666",
   "metadata": {},
   "outputs": [],
   "source": [
    "in_dir_root = 'C:/Users/cilin/Research/CA_Hospitals/Input/raw_data/census_geo/'\n",
    "in_dir_shp_zcta = in_dir_root + \"shapefiles_zcta/\"\n",
    "in_dir_shp_county = in_dir_root + \"shapefiles_county/\"\n",
    "in_dir_zcta_to_county = in_dir_root + \"zcta_to_county/\""
   ]
  },
  {
   "cell_type": "markdown",
   "id": "4be819fd",
   "metadata": {},
   "source": [
    "### Step 3: Define functions"
   ]
  },
  {
   "cell_type": "markdown",
   "id": "2b723702",
   "metadata": {},
   "source": [
    "``read data``"
   ]
  },
  {
   "cell_type": "code",
   "execution_count": null,
   "id": "93f13d26",
   "metadata": {},
   "outputs": [],
   "source": [
    "def read_zcta_geom():\n",
    "    ''' Read ZCTA geometry for California, 2010 Census boundaries\n",
    "    '''\n",
    "    # read the shapefiles for Califoria's ZIP codes\n",
    "    for file in os.listdir(in_dir_shp_zcta):\n",
    "        if file.endswith('.shp'):\n",
    "            gdf = gpd.read_file(\n",
    "                in_dir_shp_zcta + file\n",
    "            )\n",
    "    return gdf"
   ]
  },
  {
   "cell_type": "code",
   "execution_count": null,
   "id": "2c43c932",
   "metadata": {},
   "outputs": [],
   "source": [
    "def read_county_geom():\n",
    "    '''Read county geometry for California, 2016 Census bounderies\n",
    "    '''\n",
    "    # read the shapefiles for California's county codes\n",
    "    for file in os.listdir(in_dir_shp_county):\n",
    "        if file.endswith('.shp'):\n",
    "            gdf = gpd.read_file(\n",
    "                in_dir_shp_county + file\n",
    "            )\n",
    "            \n",
    "    return gdf"
   ]
  },
  {
   "cell_type": "code",
   "execution_count": null,
   "id": "27e283b6",
   "metadata": {},
   "outputs": [],
   "source": [
    "def read_zcta_to_county():\n",
    "    \"\"\" Read ZCTA to County files, 2010 Census\n",
    "    params:\n",
    "    -------\n",
    "    None\n",
    "    \n",
    "    return:\n",
    "    -------\n",
    "    df with ZCTA to County info\n",
    "    \"\"\"\n",
    "    # Read the shapefiles for California's ZIP codes\n",
    "    for file in os.listdir(in_dir_zcta_to_county):\n",
    "        if file.endswith('.csv'):\n",
    "            df = pd.read_csv(in_dir_zcta_to_county + file)\n",
    "\n",
    "    return df"
   ]
  },
  {
   "cell_type": "markdown",
   "id": "561f54d4",
   "metadata": {},
   "source": [
    "``clean data``"
   ]
  },
  {
   "cell_type": "code",
   "execution_count": null,
   "id": "193913c2",
   "metadata": {},
   "outputs": [],
   "source": [
    "def clean_zcta_geom(gdf):\n",
    "    ''''''\n",
    "    # rename, drop duplicates, sort, reset index\n",
    "    gdf.rename(\n",
    "        columns={'ZCTA5CE10': 'ZCTA10'},\n",
    "        inplace=True\n",
    "    )\n",
    "    \n",
    "    gdf.drop_duplicates(\n",
    "        subset=['ZCTA10'],\n",
    "        inplace=True\n",
    "    )\n",
    "    \n",
    "    gdf.sort_values(\n",
    "        by=['ZCTA10'],\n",
    "        inplace=True\n",
    "    )\n",
    "    \n",
    "    gdf.reset_index(\n",
    "        drop=True, \n",
    "        inplace=True\n",
    "    )\n",
    "    \n",
    "    # tranform ZCTA10 to str\n",
    "    gdf['ZCTA10'] = gdf.ZCTA10.astype(str)\n",
    "    \n",
    "    # add ZCTA10 centroid\n",
    "    gdf['ZCTA10_centroid'] = gdf.to_crs('+proj=cea').centroid.to_crs(gdf.crs)    \n",
    "    \n",
    "    gdf.rename(\n",
    "        columns={'geometry':'ZCTA10_geometry'},\n",
    "        inplace=True\n",
    "    )\n",
    "    \n",
    "    \n",
    "    gdf.rename(\n",
    "        columns={'geometry':'ZCTA10_geometry'},\n",
    "        inplace=True\n",
    "    )\n",
    "    # keep only cols of interest\n",
    "    gdf = gdf[['ZCTA10', 'ZCTA10_geometry', 'ZCTA10_centroid']]\n",
    "    \n",
    "    return gdf"
   ]
  },
  {
   "cell_type": "code",
   "execution_count": null,
   "id": "55fbb543",
   "metadata": {},
   "outputs": [],
   "source": [
    "def clean_county_geom(gdf):\n",
    "    ''''''\n",
    "    ''''''\n",
    "    # rename, drop duplicates, sort, reset index\n",
    "    gdf.rename(\n",
    "        columns={\n",
    "            'COUNTYFP10': 'CNTY10',\n",
    "            'NAME10':'CNTY10_name'\n",
    "        \n",
    "        },\n",
    "        inplace=True\n",
    "    )\n",
    "    \n",
    "    gdf.drop_duplicates(\n",
    "        subset=['CNTY10'],\n",
    "        inplace=True\n",
    "    )\n",
    "    \n",
    "    gdf.sort_values(\n",
    "        by=['CNTY10'],\n",
    "        inplace=True\n",
    "    )\n",
    "    \n",
    "    gdf.reset_index(\n",
    "        drop=True, \n",
    "        inplace=True\n",
    "    )\n",
    "    \n",
    "    # tranform CNTY10 to str\n",
    "    gdf['CNTY10'] = gdf.CNTY10.astype(str)\n",
    "    \n",
    "    # add CNTY10 centroid\n",
    "    # use Equal area cylindrical projection:\n",
    "    # https://gis.stackexchange.com/questions/372564/userwarning-when-trying-to-get-centroid-from-a-polygon-geopandas\n",
    "    gdf['CNTY10_centroid'] = gdf.to_crs('+proj=cea').centroid.to_crs(gdf.crs)\n",
    "    \n",
    "    gdf.rename(\n",
    "        columns={'geometry':'CNTY10_geometry'},\n",
    "        inplace=True\n",
    "    )\n",
    "    \n",
    "    # keep only cols of interest\n",
    "    gdf = gdf[['CNTY10','CNTY10_name', 'CNTY10_geometry', 'CNTY10_centroid']]\n",
    "    \n",
    "    \n",
    "    return gdf"
   ]
  },
  {
   "cell_type": "code",
   "execution_count": null,
   "id": "bb3753cd",
   "metadata": {},
   "outputs": [],
   "source": [
    "def clean_zcta_to_county(df):\n",
    "    '''\n",
    "    '''\n",
    "    # keep only state of CA\n",
    "    df = df[df.STATE==6]\n",
    "\n",
    "    # rename columns\n",
    "    df.rename(\n",
    "        columns={\n",
    "            'ZCTA5': 'ZCTA10',\n",
    "            'COUNTY': 'CNTY10',\n",
    "            'ZPOP': 'ZCTA10_POP',\n",
    "            'COPOP': 'CNTY10_POP'\n",
    "        },\n",
    "        inplace=True\n",
    "    )\n",
    "\n",
    "    # transform ZCTA10 and CNTY10 to string\n",
    "    df['ZCTA10'] = df.ZCTA10.astype(str)\n",
    "    df['CNTY10'] = df.CNTY10.astype(str)\n",
    "    \n",
    "     # transform CNTY10 into 3 digits\n",
    "    df['CNTY10'] = np.where(df.CNTY10.str.len()==1, '00' + df.CNTY10, \n",
    "                                  np.where(df.CNTY10.str.len()==2, '0' + df.CNTY10,\n",
    "                                          df.CNTY10))\n",
    "\n",
    "\n",
    "    # sort by county code\n",
    "    df.sort_values(by=['CNTY10'], inplace=True)\n",
    "\n",
    "    # reset index\n",
    "    df.reset_index(drop=True, inplace=True)\n",
    "    \n",
    "    # keep only cols of interest\n",
    "    df = df[['ZCTA10', 'CNTY10', 'ZCTA10_POP', 'CNTY10_POP']]\n",
    "    \n",
    "    return df"
   ]
  },
  {
   "cell_type": "markdown",
   "id": "e9facc4f",
   "metadata": {},
   "source": [
    "---\n",
    "### Step 4: Read data"
   ]
  },
  {
   "cell_type": "markdown",
   "id": "ea327ee1",
   "metadata": {},
   "source": [
    "``geometry``"
   ]
  },
  {
   "cell_type": "code",
   "execution_count": null,
   "id": "dd899211",
   "metadata": {},
   "outputs": [],
   "source": [
    "gdf_zcta = read_zcta_geom()\n",
    "gdf_zcta.head(2)"
   ]
  },
  {
   "cell_type": "code",
   "execution_count": null,
   "id": "2dc61a4d",
   "metadata": {},
   "outputs": [],
   "source": [
    "gdf_county = read_county_geom()\n",
    "gdf_county.head(2)"
   ]
  },
  {
   "cell_type": "code",
   "execution_count": null,
   "id": "095e7be7",
   "metadata": {},
   "outputs": [],
   "source": [
    "df_zcta_to_county = read_zcta_to_county()\n",
    "df_zcta_to_county.head(2)"
   ]
  },
  {
   "cell_type": "markdown",
   "id": "3c0b0275",
   "metadata": {},
   "source": [
    "---\n",
    "### Step 5: Preprocess data"
   ]
  },
  {
   "cell_type": "markdown",
   "id": "d697693e",
   "metadata": {},
   "source": [
    "``geometry``"
   ]
  },
  {
   "cell_type": "code",
   "execution_count": null,
   "id": "3270fec5",
   "metadata": {},
   "outputs": [],
   "source": [
    "gdf_zcta = clean_zcta_geom(gdf_zcta)\n",
    "gdf_zcta.head(2)"
   ]
  },
  {
   "cell_type": "code",
   "execution_count": null,
   "id": "38b9b6c1",
   "metadata": {},
   "outputs": [],
   "source": [
    "gdf_zcta[gdf_zcta.ZCTA10.eq('91941')]"
   ]
  },
  {
   "cell_type": "code",
   "execution_count": null,
   "id": "93af19dd",
   "metadata": {},
   "outputs": [],
   "source": [
    "gdf_county = clean_county_geom(gdf_county)\n",
    "gdf_county.head(2)"
   ]
  },
  {
   "cell_type": "code",
   "execution_count": null,
   "id": "fc4edb4e",
   "metadata": {},
   "outputs": [],
   "source": [
    "df_zcta_to_county = clean_zcta_to_county(df_zcta_to_county)\n",
    "df_zcta_to_county.head(2)"
   ]
  },
  {
   "cell_type": "markdown",
   "id": "c3722d9e",
   "metadata": {},
   "source": [
    "---\n",
    "### Step 6: Merge data"
   ]
  },
  {
   "cell_type": "code",
   "execution_count": null,
   "id": "d24ebecc",
   "metadata": {},
   "outputs": [],
   "source": [
    "# merge df_zcta_to_county and gdf_county\n",
    "gdf_county = gdf_county.merge(\n",
    "    df_zcta_to_county,\n",
    "    on='CNTY10', \n",
    "    how='right'\n",
    ")\n",
    "gdf_county.head(2)"
   ]
  },
  {
   "cell_type": "code",
   "execution_count": null,
   "id": "f11ba66b",
   "metadata": {},
   "outputs": [],
   "source": [
    "# merge gdf_county and gdf_zcta\n",
    "gdf_zcta_county = gdf_zcta.merge(\n",
    "    gdf_county, \n",
    "    on=['ZCTA10'],\n",
    "    how='left'\n",
    ")\n",
    "gdf_zcta_county.head(2)"
   ]
  }
 ],
 "metadata": {
  "kernelspec": {
   "display_name": "Python 3",
   "language": "python",
   "name": "python3"
  },
  "language_info": {
   "codemirror_mode": {
    "name": "ipython",
    "version": 3
   },
   "file_extension": ".py",
   "mimetype": "text/x-python",
   "name": "python",
   "nbconvert_exporter": "python",
   "pygments_lexer": "ipython3",
   "version": "3.8.5"
  }
 },
 "nbformat": 4,
 "nbformat_minor": 5
}

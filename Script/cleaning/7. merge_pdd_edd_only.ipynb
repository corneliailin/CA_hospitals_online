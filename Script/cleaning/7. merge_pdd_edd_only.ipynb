{
 "cells": [
  {
   "cell_type": "markdown",
   "id": "1fa360e4-7076-430f-87ef-f556436f88b0",
   "metadata": {
    "tags": []
   },
   "source": [
    "# Main script to merge PDD, EDD and geometry\n",
    "\n",
    "Modules: N/A <br>\n",
    "Author: Cornelia Ilin <br>\n",
    "Email: cilin@ischool.berkeley.edu <br>\n",
    "Date created: March 28, 2022 <br>\n",
    "\n",
    "Author: Cornelia Ilin\n",
    "\n",
    "Email: cilin@wisc.edu\n",
    "\n",
    "Date created: Oct 14, 2022"
   ]
  },
  {
   "cell_type": "markdown",
   "id": "9e08d8e0-e05d-449b-881d-1bc53e8e94ef",
   "metadata": {},
   "source": [
    "### Step 1: Import packages"
   ]
  },
  {
   "cell_type": "code",
   "execution_count": null,
   "id": "f4c2a6ac-fd72-4907-bfd2-b1d8abbe62f9",
   "metadata": {},
   "outputs": [],
   "source": [
    "import pandas as pd\n",
    "import numpy as np\n",
    "import os\n",
    "\n",
    "import warnings\n",
    "warnings.filterwarnings(\"ignore\")"
   ]
  },
  {
   "cell_type": "markdown",
   "id": "e8f41818-d3f3-4b9e-856e-90c6527183f9",
   "metadata": {},
   "source": [
    "### Step 2: Define working directories"
   ]
  },
  {
   "cell_type": "code",
   "execution_count": null,
   "id": "f26bdf4d-2e20-4cc9-a6c1-ac7b7a142eed",
   "metadata": {},
   "outputs": [],
   "source": [
    "in_dir_h = 'C:/Users/cilin/Research/CA_hospitals/Input/final_data/health/'\n",
    "out_dir = 'C:/Users/cilin/Research/CA_hospitals/Input/final_data/all_combined/'"
   ]
  },
  {
   "cell_type": "markdown",
   "id": "35a76c0a-5aa2-4994-aa85-541b43197456",
   "metadata": {},
   "source": [
    "### Step 3: Define functions"
   ]
  },
  {
   "cell_type": "markdown",
   "id": "0ea7accf-04df-4a0d-8e1f-c62e56b8c27a",
   "metadata": {},
   "source": [
    "``read``"
   ]
  },
  {
   "cell_type": "code",
   "execution_count": null,
   "id": "8a10bb8c-486a-4b13-b22e-b7fc22a20cbe",
   "metadata": {},
   "outputs": [],
   "source": [
    "def read_health_data():\n",
    "    '''\n",
    "    '''\n",
    "    df_dict = {}\n",
    "    for file in os.listdir(in_dir_h):\n",
    "        if file in ['PDD_final.csv', 'EDD_final.csv']:\n",
    "            key = file.split('_')[0]\n",
    "            print('Reading:', file)\n",
    "            df_dict[key] = pd.read_csv(in_dir_h + file)\n",
    "        \n",
    "    return df_dict"
   ]
  },
  {
   "cell_type": "markdown",
   "id": "e12f3639-ad7e-460b-a51f-f819193a6380",
   "metadata": {},
   "source": [
    "``preprocess``\n"
   ]
  },
  {
   "cell_type": "code",
   "execution_count": null,
   "id": "e7ea1f45-3117-4afb-a917-0cb2f2323263",
   "metadata": {},
   "outputs": [],
   "source": [
    "def preprocess_data(df):\n",
    "    ''''''\n",
    "    # transform date to datetime\n",
    "    df['admtdate'] = pd.to_datetime(df.admtdate)\n",
    "    df['bthdate'] = pd.to_datetime(df.bthdate)\n",
    "    \n",
    "    # compute age\n",
    "    df['age'] = (df.admtdate - df.bthdate)/np.timedelta64(1, 'Y')\n",
    "\n",
    "    # keep only if age <=18\n",
    "    #df = df[df.age.le(18)]\n",
    "    \n",
    "    # drop if rln=='---------'\n",
    "    df = df[~df.rln.eq('---------')]\n",
    "\n",
    "    # add pm25 and wfeI\n",
    "    df['pm25I'] = np.nan # pm25 exposure at birth\n",
    "    df['wfeI'] = np.nan  # wildfire exposure at birth\n",
    "    df['cntyresI'] = np.nan\n",
    "    df['sexI'] = np.nan\n",
    "    df['raceI'] = np.nan\n",
    "    df['visitsM_9mpp'] = np.nan\n",
    "    df['visitsM_1ypp'] = np.nan\n",
    "    df['visitsI_1yol'] = np.nan\n",
    "\n",
    "    # rename columns\n",
    "    df.rename(columns={'bthdate': 'bthdateI', 'bthyear': 'bthyearI', 'rln':'rlnI_updated'}, inplace=True)\n",
    "    \n",
    "    return df"
   ]
  },
  {
   "cell_type": "markdown",
   "id": "a57dd3cd-c698-4742-93ed-7e9cce65aedd",
   "metadata": {},
   "source": [
    "### Step 4: Read data"
   ]
  },
  {
   "cell_type": "code",
   "execution_count": null,
   "id": "d3d764d5-ec02-4755-b786-a1300dec7b26",
   "metadata": {},
   "outputs": [],
   "source": [
    "dict_h = read_health_data()\n",
    "print('Keys in data:', dict_h.keys())"
   ]
  },
  {
   "cell_type": "code",
   "execution_count": null,
   "id": "95dab21f-92ef-47a8-89d4-61a77c8d79ae",
   "metadata": {},
   "outputs": [],
   "source": [
    "# print shapes\n",
    "for key in ['PDD', 'EDD']:\n",
    "    print(key)\n",
    "    display(dict_h[key].shape)\n",
    "    print('---')"
   ]
  },
  {
   "cell_type": "code",
   "execution_count": null,
   "id": "679521bb-cae0-4065-a2eb-fa19a0ba9c94",
   "metadata": {},
   "outputs": [],
   "source": [
    "# concatenate PDD and EDD\n",
    "df = pd.concat([dict_h['PDD'], dict_h['EDD']], axis=0)\n",
    "df.head()"
   ]
  },
  {
   "cell_type": "markdown",
   "id": "36d7e86d-8a0b-4a4c-b00f-8a1ddcc3dbf4",
   "metadata": {},
   "source": [
    "### Step 5: Preprocess data"
   ]
  },
  {
   "cell_type": "code",
   "execution_count": null,
   "id": "6597ab90-dec9-422e-ad9b-2e3dcdf7de5c",
   "metadata": {},
   "outputs": [],
   "source": [
    "df = preprocess_data(df)\n",
    "print('Number of unique pediatric patients', df.rlnI_updated.nunique())"
   ]
  },
  {
   "cell_type": "markdown",
   "id": "62f56781-d49c-4156-8d64-683dd3e0d84f",
   "metadata": {},
   "source": [
    "### Step 6: Export data"
   ]
  },
  {
   "cell_type": "code",
   "execution_count": null,
   "id": "a7cd2f60-92f1-42b0-ae97-7a9588aa2819",
   "metadata": {},
   "outputs": [],
   "source": [
    "df.to_csv(out_dir + 'analysis_data_pdd_edd.csv')"
   ]
  },
  {
   "cell_type": "code",
   "execution_count": null,
   "id": "8262cea7-17b2-48f3-8c39-49a78dcb2124",
   "metadata": {},
   "outputs": [],
   "source": [
    "df.columns"
   ]
  }
 ],
 "metadata": {
  "kernelspec": {
   "display_name": "Python 3",
   "language": "python",
   "name": "python3"
  },
  "language_info": {
   "codemirror_mode": {
    "name": "ipython",
    "version": 3
   },
   "file_extension": ".py",
   "mimetype": "text/x-python",
   "name": "python",
   "nbconvert_exporter": "python",
   "pygments_lexer": "ipython3",
   "version": "3.8.5"
  }
 },
 "nbformat": 4,
 "nbformat_minor": 5
}
